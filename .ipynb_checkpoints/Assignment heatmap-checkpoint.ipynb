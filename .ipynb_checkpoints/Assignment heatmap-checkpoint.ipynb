{
 "cells": [
  {
   "cell_type": "markdown",
   "id": "972da6c3-d6bb-4861-b1e0-c5c8133905ae",
   "metadata": {},
   "source": [
    "## ***1.Display Top 10 Rows of The Dataset***"
   ]
  },
  {
   "cell_type": "markdown",
   "id": "467c4b6f-0dc9-4b77-ada9-3234c809213e",
   "metadata": {},
   "source": [
    "## ***2. Check Last 10 Rows of The Dataset***\n"
   ]
  },
  {
   "cell_type": "markdown",
   "id": "b4b86062-9da1-44c1-9a12-0aca517346ed",
   "metadata": {},
   "source": [
    "## ***3. Find Shape of Our Dataset (Number of Rows And Number of Columns)***"
   ]
  },
  {
   "cell_type": "markdown",
   "id": "9727a614-d024-49f4-ab30-70bb8f735411",
   "metadata": {},
   "source": [
    "## ***4. Getting Information About Our Dataset Like Total Number Rows, Total Number of Columns, Datatypes of Each Column And Memory Requirement***"
   ]
  },
  {
   "cell_type": "markdown",
   "id": "ac1ce41d-1cfa-4c62-9cd5-f16918b949b1",
   "metadata": {},
   "source": [
    "## ***5.Check Null Values And Also Create A Heatmap In The Dataset***\n"
   ]
  },
  {
   "cell_type": "markdown",
   "id": "a0d19b96-acf3-4326-9063-6c56e9459bfd",
   "metadata": {},
   "source": [
    "## ***6. Fetch Random Sample From the Dataset (50%)***"
   ]
  },
  {
   "cell_type": "markdown",
   "id": "63b782d5-b9f1-4c97-be99-11d857822380",
   "metadata": {},
   "source": [
    "## ***7. Perform Data Cleaning [Replace'?' with NaN]***"
   ]
  },
  {
   "cell_type": "markdown",
   "id": "7a51e383-16e8-49e4-8607-9d9d92ca4514",
   "metadata": {},
   "source": [
    "## ***8. Drop All The Missing Values***"
   ]
  },
  {
   "cell_type": "markdown",
   "id": "7f8f9d59-c85d-455b-b20f-38cf02076acd",
   "metadata": {},
   "source": [
    "## ***9. Check Duplicate Data and Drop Them***"
   ]
  },
  {
   "cell_type": "markdown",
   "id": "aaccfa58-6c89-49e5-a046-3fd7c41fcc16",
   "metadata": {},
   "source": [
    "## ***10. Get Overall Statistics About The Dataframe***"
   ]
  },
  {
   "cell_type": "markdown",
   "id": "6633ebb9-85cd-41c8-9afc-132ce35227fc",
   "metadata": {},
   "source": [
    "## ***11. Drop The Columns education-num, capital-gain and capital-loss***\n"
   ]
  },
  {
   "cell_type": "markdown",
   "id": "5535a0e0-80f6-4afa-a9c1-fc0e7ba87746",
   "metadata": {},
   "source": [
    "## ***12. What Is The Distribution of Age Column Show In Graph?***\n"
   ]
  },
  {
   "cell_type": "markdown",
   "id": "23b64339-c83e-4d02-9c0b-49d4d4880d55",
   "metadata": {},
   "source": [
    "## ***13. Find Total Number of Persons Having Age Between 17 To 48 (Inclusive) Using Between Method And Also Without Using Between Method***"
   ]
  },
  {
   "cell_type": "markdown",
   "id": "1ae999ae-df80-483a-8a0e-d7560edbbac8",
   "metadata": {},
   "source": [
    "## ***14. What is The Distribution of Workclass Column***"
   ]
  },
  {
   "cell_type": "markdown",
   "id": "19eff2cb-152c-4533-9f0a-1ac92fb21b16",
   "metadata": {},
   "source": [
    "## ***15. How Many Person Having Bachelors or Masters Degree***"
   ]
  },
  {
   "cell_type": "markdown",
   "id": "effdc572-3527-4d5e-984b-2007272a960e",
   "metadata": {},
   "source": [
    "## ***16. Create A Boxplot Of The \"Income\" Column Against The \"Age\" Column, Segmented By Gender***"
   ]
  },
  {
   "cell_type": "markdown",
   "id": "1bff8b30-d35b-4b15-a329-f3ad0141161a",
   "metadata": {},
   "source": [
    "## ***17. Replace income value [<=50k with 0 and >50k with 1]***"
   ]
  },
  {
   "cell_type": "markdown",
   "id": "cef888b2-216d-4df1-b2b5-8a3ab4f6730f",
   "metadata": {},
   "source": [
    "## ***18. Which Workclass getting The Highest Salary***"
   ]
  },
  {
   "cell_type": "markdown",
   "id": "1b4f6a67-714b-4e77-b420-6df3f4ff007d",
   "metadata": {},
   "source": [
    "## ***19. Who Has Better Chance To Get Salary >50k Male or Female***"
   ]
  },
  {
   "cell_type": "markdown",
   "id": "e71ae02e-1b99-48db-bb73-464a4b2f3e2f",
   "metadata": {},
   "source": [
    "## ***20. Convert Workclass Column DataType To Category Datatype***"
   ]
  }
 ],
 "metadata": {
  "kernelspec": {
   "display_name": "Python 3 (ipykernel)",
   "language": "python",
   "name": "python3"
  },
  "language_info": {
   "codemirror_mode": {
    "name": "ipython",
    "version": 3
   },
   "file_extension": ".py",
   "mimetype": "text/x-python",
   "name": "python",
   "nbconvert_exporter": "python",
   "pygments_lexer": "ipython3",
   "version": "3.12.4"
  }
 },
 "nbformat": 4,
 "nbformat_minor": 5
}
